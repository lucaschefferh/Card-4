{
 "cells": [
  {
   "cell_type": "code",
   "execution_count": 1,
   "id": "65a3f788-e52d-4263-a38f-bcf88e8d6f2c",
   "metadata": {},
   "outputs": [],
   "source": [
    "import numpy as np\n"
   ]
  },
  {
   "cell_type": "code",
   "execution_count": 3,
   "id": "2c9d50ef-4f11-4006-9bf7-80ea672a17b1",
   "metadata": {},
   "outputs": [],
   "source": [
    "minhalista = [1,2,3]\n"
   ]
  },
  {
   "cell_type": "code",
   "execution_count": 5,
   "id": "b3267684-f546-4d09-9b66-9216c2a07911",
   "metadata": {},
   "outputs": [
    {
     "data": {
      "text/plain": [
       "array([1, 2, 3])"
      ]
     },
     "execution_count": 5,
     "metadata": {},
     "output_type": "execute_result"
    }
   ],
   "source": [
    "np.array(minhalista)"
   ]
  },
  {
   "cell_type": "code",
   "execution_count": 7,
   "id": "56abb74c-10bf-4dd0-9996-75bba1f3f036",
   "metadata": {},
   "outputs": [],
   "source": [
    "minhamatriz = [[1,2,3], [4,5,6], [7,8,9]]"
   ]
  },
  {
   "cell_type": "code",
   "execution_count": 9,
   "id": "2477e1ba-94c4-4c31-a379-cd65139a13f3",
   "metadata": {},
   "outputs": [
    {
     "data": {
      "text/plain": [
       "array([[1, 2, 3],\n",
       "       [4, 5, 6],\n",
       "       [7, 8, 9]])"
      ]
     },
     "execution_count": 9,
     "metadata": {},
     "output_type": "execute_result"
    }
   ],
   "source": [
    "np.array(minhamatriz)"
   ]
  },
  {
   "cell_type": "code",
   "execution_count": 13,
   "id": "d3e4c8e6-ce9c-47d3-ab59-90d13b6a02ac",
   "metadata": {},
   "outputs": [
    {
     "data": {
      "text/plain": [
       "array([0, 1, 2, 3, 4, 5, 6, 7, 8, 9])"
      ]
     },
     "execution_count": 13,
     "metadata": {},
     "output_type": "execute_result"
    }
   ],
   "source": [
    "np.arange(0,10)"
   ]
  },
  {
   "cell_type": "code",
   "execution_count": 17,
   "id": "8d1a714b-f68f-4ce3-8322-7d63a525d8af",
   "metadata": {},
   "outputs": [
    {
     "data": {
      "text/plain": [
       "array([0, 2, 4, 6, 8])"
      ]
     },
     "execution_count": 17,
     "metadata": {},
     "output_type": "execute_result"
    }
   ],
   "source": [
    "np.arange(0,10,2)"
   ]
  },
  {
   "cell_type": "code",
   "execution_count": 19,
   "id": "6c038f88-d7d5-4714-ab6f-22cd14ba9558",
   "metadata": {},
   "outputs": [
    {
     "data": {
      "text/plain": [
       "array([0., 0., 0.])"
      ]
     },
     "execution_count": 19,
     "metadata": {},
     "output_type": "execute_result"
    }
   ],
   "source": [
    "np.zeros(3)"
   ]
  },
  {
   "cell_type": "code",
   "execution_count": 21,
   "id": "4143b580-0830-4652-8a8c-f0d6e923a47c",
   "metadata": {},
   "outputs": [
    {
     "data": {
      "text/plain": [
       "array([0., 0., 0.])"
      ]
     },
     "execution_count": 21,
     "metadata": {},
     "output_type": "execute_result"
    }
   ],
   "source": [
    "arr = np.zeros(3)\n",
    "arr"
   ]
  },
  {
   "cell_type": "code",
   "execution_count": 25,
   "id": "6bcada75-b4de-4e60-bc9e-10754b665a7d",
   "metadata": {},
   "outputs": [],
   "source": [
    "mat = np.zeros((5,5))"
   ]
  },
  {
   "cell_type": "code",
   "execution_count": 27,
   "id": "b304e304-199c-4466-9e7c-a5175db210e7",
   "metadata": {},
   "outputs": [
    {
     "data": {
      "text/plain": [
       "array([[0., 0., 0., 0., 0.],\n",
       "       [0., 0., 0., 0., 0.],\n",
       "       [0., 0., 0., 0., 0.],\n",
       "       [0., 0., 0., 0., 0.],\n",
       "       [0., 0., 0., 0., 0.]])"
      ]
     },
     "execution_count": 27,
     "metadata": {},
     "output_type": "execute_result"
    }
   ],
   "source": [
    "mat"
   ]
  },
  {
   "cell_type": "code",
   "execution_count": 29,
   "id": "8d52f8b2-2214-4d2f-99e5-bc95d80bc9c2",
   "metadata": {},
   "outputs": [
    {
     "data": {
      "text/plain": [
       "array([[1., 1., 1.],\n",
       "       [1., 1., 1.],\n",
       "       [1., 1., 1.]])"
      ]
     },
     "execution_count": 29,
     "metadata": {},
     "output_type": "execute_result"
    }
   ],
   "source": [
    "np.ones((3,3))"
   ]
  },
  {
   "cell_type": "code",
   "execution_count": 31,
   "id": "9b8fe40c-61ce-4dff-b67d-5a3dd2176ebb",
   "metadata": {},
   "outputs": [
    {
     "data": {
      "text/plain": [
       "array([[1., 0., 0., 0.],\n",
       "       [0., 1., 0., 0.],\n",
       "       [0., 0., 1., 0.],\n",
       "       [0., 0., 0., 1.]])"
      ]
     },
     "execution_count": 31,
     "metadata": {},
     "output_type": "execute_result"
    }
   ],
   "source": [
    "np.eye(4)"
   ]
  },
  {
   "cell_type": "code",
   "execution_count": 33,
   "id": "239f1be5-0226-449b-883f-d8c028b9d2c1",
   "metadata": {},
   "outputs": [
    {
     "data": {
      "text/plain": [
       "array([ 0., 10.])"
      ]
     },
     "execution_count": 33,
     "metadata": {},
     "output_type": "execute_result"
    }
   ],
   "source": [
    "np.linspace(0,10,2)"
   ]
  },
  {
   "cell_type": "code",
   "execution_count": 35,
   "id": "c2f7d6e3-45c5-41f3-9ad4-a877b7e6b053",
   "metadata": {},
   "outputs": [
    {
     "data": {
      "text/plain": [
       "array([ 0.,  5., 10.])"
      ]
     },
     "execution_count": 35,
     "metadata": {},
     "output_type": "execute_result"
    }
   ],
   "source": [
    "np.linspace(0,10,3)"
   ]
  },
  {
   "cell_type": "code",
   "execution_count": 49,
   "id": "a954d6bb-1f19-44a3-9654-6296e2f95f1f",
   "metadata": {},
   "outputs": [
    {
     "data": {
      "text/plain": [
       "array([ 0.,  5., 10., 15.])"
      ]
     },
     "execution_count": 49,
     "metadata": {},
     "output_type": "execute_result"
    }
   ],
   "source": [
    "np.linspace(0,15,4)"
   ]
  },
  {
   "cell_type": "code",
   "execution_count": 51,
   "id": "5146b3cf-578a-4448-893a-f65b4012b6ed",
   "metadata": {},
   "outputs": [
    {
     "data": {
      "text/plain": [
       "array([0.80658514, 0.54245829, 0.14868336, 0.33751317, 0.46653766])"
      ]
     },
     "execution_count": 51,
     "metadata": {},
     "output_type": "execute_result"
    }
   ],
   "source": [
    "np.random.rand(5)"
   ]
  },
  {
   "cell_type": "code",
   "execution_count": 53,
   "id": "7bc995c1-124e-4201-aac6-b7ed978c168c",
   "metadata": {},
   "outputs": [
    {
     "data": {
      "text/plain": [
       "array([94.58873896, 93.90579148, 22.32287524, 51.47357832, 82.72911483])"
      ]
     },
     "execution_count": 53,
     "metadata": {},
     "output_type": "execute_result"
    }
   ],
   "source": [
    "np.random.rand(5) * 100"
   ]
  },
  {
   "cell_type": "code",
   "execution_count": 55,
   "id": "86ee24d7-f9cb-42fb-a477-ea31500535c4",
   "metadata": {},
   "outputs": [
    {
     "data": {
      "text/plain": [
       "array([[0.69401258, 0.67531715, 0.87426076, 0.87144482],\n",
       "       [0.23296023, 0.48790595, 0.38491182, 0.38597197],\n",
       "       [0.14724634, 0.38050439, 0.49611874, 0.684046  ],\n",
       "       [0.38364099, 0.03212874, 0.30352429, 0.44472165],\n",
       "       [0.31458874, 0.09225377, 0.72843082, 0.90338424]])"
      ]
     },
     "execution_count": 55,
     "metadata": {},
     "output_type": "execute_result"
    }
   ],
   "source": [
    "np.random.rand(5,4)"
   ]
  },
  {
   "cell_type": "code",
   "execution_count": 57,
   "id": "1a79bfb3-44b9-4f2f-bee4-90903d873b29",
   "metadata": {},
   "outputs": [
    {
     "data": {
      "text/plain": [
       "array([ 0.74303431, -1.62845492, -0.96323183, -0.57887424])"
      ]
     },
     "execution_count": 57,
     "metadata": {},
     "output_type": "execute_result"
    }
   ],
   "source": [
    "np.random.randn(4)"
   ]
  },
  {
   "cell_type": "code",
   "execution_count": 59,
   "id": "17aed552-51c3-4f00-867c-0a49ea5fca60",
   "metadata": {},
   "outputs": [
    {
     "data": {
      "text/plain": [
       "array([37, 44, 64, 66,  6, 75, 99, 83,  2,  1])"
      ]
     },
     "execution_count": 59,
     "metadata": {},
     "output_type": "execute_result"
    }
   ],
   "source": [
    "np.random.randint(0,100,10)"
   ]
  },
  {
   "cell_type": "code",
   "execution_count": 65,
   "id": "055f390e-50d3-43f1-bbd7-d50e656cd685",
   "metadata": {},
   "outputs": [
    {
     "data": {
      "text/plain": [
       "array([68., 24., 58., 94., 66.])"
      ]
     },
     "execution_count": 65,
     "metadata": {},
     "output_type": "execute_result"
    }
   ],
   "source": [
    "np.around(np.random.rand(5) * 100, 0) "
   ]
  },
  {
   "cell_type": "code",
   "execution_count": 67,
   "id": "db68ef31-dc46-48d5-851c-1d52a14e057b",
   "metadata": {},
   "outputs": [],
   "source": [
    "arr = np.random.rand(25)"
   ]
  },
  {
   "cell_type": "code",
   "execution_count": 69,
   "id": "08878d33-c29c-49a8-806d-e29ef91bbcca",
   "metadata": {},
   "outputs": [
    {
     "data": {
      "text/plain": [
       "array([0.11868112, 0.0532342 , 0.66256125, 0.68516834, 0.58217344,\n",
       "       0.53141158, 0.65042231, 0.01827175, 0.3654666 , 0.19423083,\n",
       "       0.53482347, 0.01974815, 0.37784273, 0.52862588, 0.10076138,\n",
       "       0.79618243, 0.72938106, 0.65223364, 0.65560883, 0.72515067,\n",
       "       0.77081735, 0.04629129, 0.21692198, 0.72093358, 0.99725091])"
      ]
     },
     "execution_count": 69,
     "metadata": {},
     "output_type": "execute_result"
    }
   ],
   "source": [
    "arr\n"
   ]
  },
  {
   "cell_type": "code",
   "execution_count": 71,
   "id": "fdd3cfd7-2e5a-453d-805e-0e66c01653f2",
   "metadata": {},
   "outputs": [
    {
     "data": {
      "text/plain": [
       "array([[0.11868112, 0.0532342 , 0.66256125, 0.68516834, 0.58217344],\n",
       "       [0.53141158, 0.65042231, 0.01827175, 0.3654666 , 0.19423083],\n",
       "       [0.53482347, 0.01974815, 0.37784273, 0.52862588, 0.10076138],\n",
       "       [0.79618243, 0.72938106, 0.65223364, 0.65560883, 0.72515067],\n",
       "       [0.77081735, 0.04629129, 0.21692198, 0.72093358, 0.99725091]])"
      ]
     },
     "execution_count": 71,
     "metadata": {},
     "output_type": "execute_result"
    }
   ],
   "source": [
    "arr.reshape((5,5))"
   ]
  },
  {
   "cell_type": "code",
   "execution_count": 73,
   "id": "23cc5243-4b25-4fac-b098-d7b556cbb7f4",
   "metadata": {},
   "outputs": [],
   "source": [
    "arr1 = arr.reshape((5,5))"
   ]
  },
  {
   "cell_type": "code",
   "execution_count": 79,
   "id": "e0097932-27ce-4222-94d8-daf79c49ad66",
   "metadata": {},
   "outputs": [
    {
     "data": {
      "text/plain": [
       "array([[0.11868112, 0.0532342 , 0.66256125, 0.68516834, 0.58217344],\n",
       "       [0.53141158, 0.65042231, 0.01827175, 0.3654666 , 0.19423083],\n",
       "       [0.53482347, 0.01974815, 0.37784273, 0.52862588, 0.10076138],\n",
       "       [0.79618243, 0.72938106, 0.65223364, 0.65560883, 0.72515067],\n",
       "       [0.77081735, 0.04629129, 0.21692198, 0.72093358, 0.99725091]])"
      ]
     },
     "execution_count": 79,
     "metadata": {},
     "output_type": "execute_result"
    }
   ],
   "source": [
    "arr1"
   ]
  },
  {
   "cell_type": "code",
   "execution_count": 81,
   "id": "7a4943f3-777e-42c8-9222-8d2effe32dd6",
   "metadata": {},
   "outputs": [
    {
     "data": {
      "text/plain": [
       "(5, 5)"
      ]
     },
     "execution_count": 81,
     "metadata": {},
     "output_type": "execute_result"
    }
   ],
   "source": [
    "arr1.shape"
   ]
  },
  {
   "cell_type": "code",
   "execution_count": 83,
   "id": "04ab0638-c281-4a01-85bf-a83c62ce2ab4",
   "metadata": {},
   "outputs": [
    {
     "data": {
      "text/plain": [
       "(25,)"
      ]
     },
     "execution_count": 83,
     "metadata": {},
     "output_type": "execute_result"
    }
   ],
   "source": [
    "arr.shape"
   ]
  },
  {
   "cell_type": "code",
   "execution_count": 87,
   "id": "b9659b1c-a8b6-4d36-b455-f3605302eebe",
   "metadata": {},
   "outputs": [
    {
     "data": {
      "text/plain": [
       "0.9972509100835263"
      ]
     },
     "execution_count": 87,
     "metadata": {},
     "output_type": "execute_result"
    }
   ],
   "source": [
    "arr.max()"
   ]
  },
  {
   "cell_type": "code",
   "execution_count": 89,
   "id": "c68adafc-4be4-4853-be69-63355eb858ca",
   "metadata": {},
   "outputs": [
    {
     "data": {
      "text/plain": [
       "0.01827174563807976"
      ]
     },
     "execution_count": 89,
     "metadata": {},
     "output_type": "execute_result"
    }
   ],
   "source": [
    "arr.min()"
   ]
  },
  {
   "cell_type": "code",
   "execution_count": 91,
   "id": "347eb3a6-071a-4c28-914b-b682f7501980",
   "metadata": {},
   "outputs": [
    {
     "data": {
      "text/plain": [
       "24"
      ]
     },
     "execution_count": 91,
     "metadata": {},
     "output_type": "execute_result"
    }
   ],
   "source": [
    "arr.argmax()"
   ]
  },
  {
   "cell_type": "code",
   "execution_count": 93,
   "id": "ae5634d6-1250-4cc7-a891-2a421bcf08ac",
   "metadata": {},
   "outputs": [
    {
     "data": {
      "text/plain": [
       "24"
      ]
     },
     "execution_count": 93,
     "metadata": {},
     "output_type": "execute_result"
    }
   ],
   "source": [
    "arr1.argmax()"
   ]
  }
 ],
 "metadata": {
  "kernelspec": {
   "display_name": "Python [conda env:base] *",
   "language": "python",
   "name": "conda-base-py"
  },
  "language_info": {
   "codemirror_mode": {
    "name": "ipython",
    "version": 3
   },
   "file_extension": ".py",
   "mimetype": "text/x-python",
   "name": "python",
   "nbconvert_exporter": "python",
   "pygments_lexer": "ipython3",
   "version": "3.12.7"
  }
 },
 "nbformat": 4,
 "nbformat_minor": 5
}
