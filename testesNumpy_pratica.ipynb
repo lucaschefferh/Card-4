{
 "cells": [
  {
   "cell_type": "code",
   "execution_count": 1,
   "id": "3238b7b2-7803-477b-9860-3f7704cf31e7",
   "metadata": {},
   "outputs": [],
   "source": [
    "import numpy as np"
   ]
  },
  {
   "cell_type": "code",
   "execution_count": 21,
   "id": "913532b0-8c31-498e-a9a5-ad43d88d0bcf",
   "metadata": {},
   "outputs": [
    {
     "data": {
      "text/plain": [
       "array([ 0,  1,  1,  2,  3,  5,  8, 13, 21, 34])"
      ]
     },
     "execution_count": 21,
     "metadata": {},
     "output_type": "execute_result"
    }
   ],
   "source": [
    "#sequencia de fibonacci\n",
    "fibonacci = np.zeros(10, dtype=int)\n",
    "fibonacci[0], fibonacci[1] = 0, 1\n",
    "\n",
    "for i in range(2, 10):\n",
    "    fibonacci[i] = fibonacci[i-1] + fibonacci[i-2]\n",
    "\n",
    "fibonacci"
   ]
  },
  {
   "cell_type": "code",
   "execution_count": 31,
   "id": "602814cc-a3c6-48f0-bb4a-7a074d0c3df8",
   "metadata": {},
   "outputs": [
    {
     "name": "stdout",
     "output_type": "stream",
     "text": [
      "1: 171 vezes\n",
      "2: 162 vezes\n",
      "3: 168 vezes\n",
      "4: 169 vezes\n",
      "5: 164 vezes\n",
      "6: 166 vezes\n"
     ]
    }
   ],
   "source": [
    "#quantidade de vezes que um lado do dado caiu\n",
    "lancamentos = np.random.randint(1, 7, 1000)\n",
    "\n",
    "for i in range(1, 7):\n",
    "    print(f\"{i}: {np.sum(lancamentos == i)} vezes\")"
   ]
  },
  {
   "cell_type": "code",
   "execution_count": 41,
   "id": "d930a583-2a35-40aa-81de-bf5656928813",
   "metadata": {},
   "outputs": [
    {
     "name": "stdout",
     "output_type": "stream",
     "text": [
      "Nota média: 5.218084845768135\n",
      "Nota mínima: 0.9971879140927242\n",
      "Nota máxima: 8.239834274943846\n",
      "Número de alunos aprovados 6\n"
     ]
    }
   ],
   "source": [
    "notas = np.random.uniform(0, 10, 10)\n",
    "\n",
    "print(\"Nota média:\", np.mean(notas))\n",
    "print(\"Nota mínima:\", np.min(notas))\n",
    "print(\"Nota máxima:\", np.max(notas))\n",
    "print(\"Número de alunos aprovados\", np.sum(notas >= 5))"
   ]
  },
  {
   "cell_type": "code",
   "execution_count": 57,
   "id": "5eb5c7ca-3fdc-418e-b14c-bb3cccf7c1c2",
   "metadata": {},
   "outputs": [
    {
     "name": "stdout",
     "output_type": "stream",
     "text": [
      "Vetor completo:  [0 1 2 3 4 5 6 7 8 9]\n",
      "Ultimos 3 elementos do vetor :  [7 8 9]\n",
      "Do segundo elemento do vetor até o final:  [1 2 3 4 5 6 7 8 9]\n",
      "Formatação vetor:  [[0 1 2 3 4]\n",
      " [5 6 7 8 9]]\n"
     ]
    }
   ],
   "source": [
    "#indexacao de arrays\n",
    "arr = np.arange(10)  \n",
    "print('Vetor completo: ', arr)\n",
    "print('Ultimos 3 elementos do vetor : ', arr[-3:])\n",
    "print('Do segundo elemento do vetor até o final: ', arr[1:])\n",
    "print('Formatação vetor: ', arr.reshape(2,5))"
   ]
  },
  {
   "cell_type": "code",
   "execution_count": 67,
   "id": "cc6f6027-fbaf-4a1b-852d-53d79e6d579d",
   "metadata": {},
   "outputs": [
    {
     "name": "stdout",
     "output_type": "stream",
     "text": [
      "Matriz de zeros:\n",
      " [[0. 0.]\n",
      " [0. 0.]]\n",
      "Matriz de uns:\n",
      " [[1. 1. 1. 1. 1.]\n",
      " [1. 1. 1. 1. 1.]]\n",
      "Array de valores aleatórios: [0.87252015 0.69165566 0.14859175 0.22021952 0.67707714]\n"
     ]
    }
   ],
   "source": [
    "zeros = np.zeros((2, 2))  \n",
    "ones = np.ones((2, 5))    \n",
    "rando = np.random.rand(5)  \n",
    "\n",
    "print(\"Matriz de zeros:\\n\", zeros)\n",
    "print(\"Matriz de uns:\\n\", ones)\n",
    "print(\"Array de valores aleatórios:\", rando)"
   ]
  }
 ],
 "metadata": {
  "kernelspec": {
   "display_name": "Python [conda env:base] *",
   "language": "python",
   "name": "conda-base-py"
  },
  "language_info": {
   "codemirror_mode": {
    "name": "ipython",
    "version": 3
   },
   "file_extension": ".py",
   "mimetype": "text/x-python",
   "name": "python",
   "nbconvert_exporter": "python",
   "pygments_lexer": "ipython3",
   "version": "3.12.7"
  }
 },
 "nbformat": 4,
 "nbformat_minor": 5
}
