{
 "cells": [
  {
   "cell_type": "code",
   "execution_count": 3,
   "id": "d141d2ca-bd15-412d-953f-6cb832310ce5",
   "metadata": {},
   "outputs": [],
   "source": [
    "import numpy as np\n",
    "import pandas as pd"
   ]
  },
  {
   "cell_type": "code",
   "execution_count": 3,
   "id": "3596d75a-6dfa-433a-b1d4-cb77b4cf67e8",
   "metadata": {},
   "outputs": [],
   "source": [
    "labels = ['a', 'b', 'c']"
   ]
  },
  {
   "cell_type": "code",
   "execution_count": 11,
   "id": "6b8fe361-f3fa-4b28-915b-d6e62a0fe40d",
   "metadata": {},
   "outputs": [],
   "source": [
    "minha_lista = (10,20,30)\n",
    "arr = np.array([10,20,30])\n",
    "d = {'a':10, 'b':20, 'c':30}"
   ]
  },
  {
   "cell_type": "code",
   "execution_count": 13,
   "id": "43e4f8a1-7c5a-46a5-bb74-f1eb2e2bbbaa",
   "metadata": {},
   "outputs": [
    {
     "data": {
      "text/plain": [
       "a    10\n",
       "b    20\n",
       "c    30\n",
       "dtype: int64"
      ]
     },
     "execution_count": 13,
     "metadata": {},
     "output_type": "execute_result"
    }
   ],
   "source": [
    "pd.Series(data=minha_lista, index=labels)"
   ]
  },
  {
   "cell_type": "code",
   "execution_count": 15,
   "id": "7304e336-6d57-4ae4-8cf0-b7048c7a5b41",
   "metadata": {},
   "outputs": [],
   "source": [
    "series = pd.Series(data=minha_lista, index=labels)"
   ]
  },
  {
   "cell_type": "code",
   "execution_count": 21,
   "id": "e6ca0e92-e242-4c81-916c-dd38b3aeb288",
   "metadata": {},
   "outputs": [
    {
     "data": {
      "text/plain": [
       "20"
      ]
     },
     "execution_count": 21,
     "metadata": {},
     "output_type": "execute_result"
    }
   ],
   "source": [
    "series['b']"
   ]
  },
  {
   "cell_type": "code",
   "execution_count": 35,
   "id": "80d1b53e-f10d-447f-a795-541a14c0b84b",
   "metadata": {},
   "outputs": [
    {
     "data": {
      "text/plain": [
       "a    10\n",
       "b    20\n",
       "c    30\n",
       "dtype: int32"
      ]
     },
     "execution_count": 35,
     "metadata": {},
     "output_type": "execute_result"
    }
   ],
   "source": [
    "pd.Series(arr, labels)"
   ]
  },
  {
   "cell_type": "code",
   "execution_count": 11,
   "id": "cce4246b-420a-4ac0-a284-9c7f6699e36c",
   "metadata": {},
   "outputs": [],
   "source": [
    "ser1 = pd.Series([1,2,3,4], index = ['EUA', 'Alemanha','União Soviética', 'Japão'])"
   ]
  },
  {
   "cell_type": "code",
   "execution_count": 46,
   "id": "0950c7ad-8427-4b8a-9b53-d3b77e0ff537",
   "metadata": {},
   "outputs": [
    {
     "data": {
      "text/plain": [
       "EUA                1\n",
       "Alemanha           2\n",
       "União Soviética    3\n",
       "Japão              4\n",
       "dtype: int64"
      ]
     },
     "execution_count": 46,
     "metadata": {},
     "output_type": "execute_result"
    }
   ],
   "source": [
    "ser1"
   ]
  },
  {
   "cell_type": "code",
   "execution_count": 5,
   "id": "2068de47-5842-40dd-b844-48f677ab7324",
   "metadata": {},
   "outputs": [],
   "source": [
    "ser2 = pd.Series([4,5,6,3], index = ['EUA', 'Alemanha','Itália', 'Japão'])"
   ]
  },
  {
   "cell_type": "code",
   "execution_count": 7,
   "id": "9f847887-987e-44af-87b4-d94c9dbc1855",
   "metadata": {},
   "outputs": [
    {
     "data": {
      "text/plain": [
       "EUA         4\n",
       "Alemanha    5\n",
       "Itália      6\n",
       "Japão       3\n",
       "dtype: int64"
      ]
     },
     "execution_count": 7,
     "metadata": {},
     "output_type": "execute_result"
    }
   ],
   "source": [
    "ser2"
   ]
  },
  {
   "cell_type": "code",
   "execution_count": 13,
   "id": "5d232445-edc2-4261-b3d9-f28561c1a792",
   "metadata": {},
   "outputs": [
    {
     "data": {
      "text/plain": [
       "Alemanha           7.0\n",
       "EUA                5.0\n",
       "Itália             NaN\n",
       "Japão              7.0\n",
       "União Soviética    NaN\n",
       "dtype: float64"
      ]
     },
     "execution_count": 13,
     "metadata": {},
     "output_type": "execute_result"
    }
   ],
   "source": [
    "ser1 + ser2"
   ]
  }
 ],
 "metadata": {
  "kernelspec": {
   "display_name": "Python [conda env:base] *",
   "language": "python",
   "name": "conda-base-py"
  },
  "language_info": {
   "codemirror_mode": {
    "name": "ipython",
    "version": 3
   },
   "file_extension": ".py",
   "mimetype": "text/x-python",
   "name": "python",
   "nbconvert_exporter": "python",
   "pygments_lexer": "ipython3",
   "version": "3.12.7"
  }
 },
 "nbformat": 4,
 "nbformat_minor": 5
}
