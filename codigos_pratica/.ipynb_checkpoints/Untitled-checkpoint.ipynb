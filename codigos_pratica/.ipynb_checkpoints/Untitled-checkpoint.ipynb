{
 "cells": [
  {
   "cell_type": "markdown",
   "id": "a42612e8-e116-4b3c-916f-a2e9640d73ef",
   "metadata": {},
   "source": [
    "Este é um código prático do que eu aprendi durante as aulas de Numpy e Pandas"
   ]
  },
  {
   "cell_type": "code",
   "execution_count": 31,
   "id": "28aba16e-92d1-4b45-9bd0-bcb579d26fa5",
   "metadata": {},
   "outputs": [],
   "source": [
    "import pandas as pd\n",
    "import numpy as np"
   ]
  },
  {
   "cell_type": "markdown",
   "id": "864a1f60-2dd4-40c4-b0b2-49f66a9b34ce",
   "metadata": {},
   "source": [
    "Importação de um dataframe de bancos falidos dos estados unidos pelo html"
   ]
  },
  {
   "cell_type": "code",
   "execution_count": 61,
   "id": "16e11010-cd9a-4f75-ab01-620d7a97a8c0",
   "metadata": {},
   "outputs": [],
   "source": [
    "tabela = pd.read_html('https://www.fdic.gov/bank-failures/failed-bank-list?combine=&items_per_page=All')\n",
    "df = tabela[0]"
   ]
  },
  {
   "cell_type": "markdown",
   "id": "0f805d8a-7bed-42a2-ad15-0180f7a61860",
   "metadata": {},
   "source": [
    "Numero de Bancos fechados por estado e organizados do maior para o menor"
   ]
  },
  {
   "cell_type": "code",
   "execution_count": 63,
   "id": "9cc78900-df98-4fac-95eb-396927c769a6",
   "metadata": {},
   "outputs": [
    {
     "data": {
      "text/plain": [
       "State\n",
       "Georgia           93\n",
       "Florida           76\n",
       "Illinois          70\n",
       "California        43\n",
       "Minnesota         23\n",
       "Washington        19\n",
       "Missouri          16\n",
       "Arizona           16\n",
       "Michigan          14\n",
       "Texas             13\n",
       "Kansas            12\n",
       "Nevada            12\n",
       "Pennsylvania      11\n",
       "Wisconsin         11\n",
       "Colorado          10\n",
       "Maryland          10\n",
       "South Carolina    10\n",
       "Ohio               9\n",
       "Utah               8\n",
       "New Jersey         8\n",
       "Oklahoma           8\n",
       "Alabama            7\n",
       "North Carolina     7\n",
       "Tennessee          7\n",
       "Oregon             6\n",
       "New York           6\n",
       "Virginia           5\n",
       "Puerto Rico        4\n",
       "Nebraska           4\n",
       "Louisiana          4\n",
       "Arkansas           4\n",
       "New Mexico         3\n",
       "Kentucky           3\n",
       "Iowa               3\n",
       "Indiana            3\n",
       "Mississippi        2\n",
       "Idaho              2\n",
       "Connecticut        2\n",
       "West Virginia      2\n",
       "New Hampshire      1\n",
       "Massachusetts      1\n",
       "South Dakota       1\n",
       "Hawaii             1\n",
       "Wyoming            1\n",
       "Name: Bank Name, dtype: int64"
      ]
     },
     "execution_count": 63,
     "metadata": {},
     "output_type": "execute_result"
    }
   ],
   "source": [
    "df.groupby('State')['Bank Name'].count().sort_values(ascending=False)"
   ]
  },
  {
   "cell_type": "markdown",
   "id": "25ab9fed-69fa-4345-a8be-4da6a74b0596",
   "metadata": {},
   "source": [
    "Data de fechamento dos bancos mais recentes de cada estado"
   ]
  },
  {
   "cell_type": "code",
   "execution_count": 89,
   "id": "8e35c1a4-b88b-4397-b68b-961b930afc19",
   "metadata": {},
   "outputs": [
    {
     "data": {
      "text/plain": [
       "State\n",
       "Alabama              April 15, 2011\n",
       "Arizona               April 5, 2013\n",
       "Arkansas          December 17, 2010\n",
       "California           April 16, 2010\n",
       "Colorado             April 10, 2009\n",
       "Connecticut           June 26, 2002\n",
       "Florida              April 16, 2010\n",
       "Georgia              April 15, 2011\n",
       "Hawaii             October 13, 2000\n",
       "Idaho                April 24, 2009\n",
       "Illinois             April 23, 2010\n",
       "Indiana           February 10, 2012\n",
       "Iowa              November 18, 2011\n",
       "Kansas              August 12, 2011\n",
       "Kentucky             April 19, 2013\n",
       "Louisiana            April 28, 2017\n",
       "Maryland             April 27, 2012\n",
       "Massachusetts        April 16, 2010\n",
       "Michigan             April 16, 2010\n",
       "Minnesota            April 15, 2011\n",
       "Mississippi          April 15, 2011\n",
       "Missouri             April 17, 2009\n",
       "Nebraska          February 13, 2009\n",
       "Nevada               April 17, 2009\n",
       "New Hampshire      February 2, 2001\n",
       "New Jersey           April 20, 2012\n",
       "New Mexico         January 22, 2010\n",
       "New York              July 24, 2009\n",
       "North Carolina       April 10, 2009\n",
       "Ohio               December 4, 2009\n",
       "Oklahoma           January 24, 2014\n",
       "Oregon               August 7, 2009\n",
       "Pennsylvania         April 26, 2024\n",
       "Puerto Rico          April 30, 2010\n",
       "South Carolina       April 25, 2014\n",
       "South Dakota          July 17, 2009\n",
       "Tennessee            April 29, 2016\n",
       "Texas               August 21, 2009\n",
       "Utah               January 15, 2010\n",
       "Virginia            August 20, 2010\n",
       "Washington           April 16, 2010\n",
       "West Virginia         April 3, 2020\n",
       "Wisconsin            August 9, 2013\n",
       "Wyoming               July 10, 2009\n",
       "Name: Closing Date, dtype: object"
      ]
     },
     "execution_count": 89,
     "metadata": {},
     "output_type": "execute_result"
    }
   ],
   "source": [
    "df.groupby('State')['Closing Date'].min()"
   ]
  },
  {
   "cell_type": "markdown",
   "id": "b63ee763-d7df-4720-9f1f-0bdc197de28e",
   "metadata": {},
   "source": [
    "As 10 utlimas linhas do dataframe"
   ]
  },
  {
   "cell_type": "code",
   "execution_count": 79,
   "id": "4a6a8d78-d884-4ebc-8a7a-a4d9627e3018",
   "metadata": {},
   "outputs": [
    {
     "data": {
      "text/html": [
       "<div>\n",
       "<style scoped>\n",
       "    .dataframe tbody tr th:only-of-type {\n",
       "        vertical-align: middle;\n",
       "    }\n",
       "\n",
       "    .dataframe tbody tr th {\n",
       "        vertical-align: top;\n",
       "    }\n",
       "\n",
       "    .dataframe thead th {\n",
       "        text-align: right;\n",
       "    }\n",
       "</style>\n",
       "<table border=\"1\" class=\"dataframe\">\n",
       "  <thead>\n",
       "    <tr style=\"text-align: right;\">\n",
       "      <th></th>\n",
       "      <th>Bank Name</th>\n",
       "      <th>City</th>\n",
       "      <th>State</th>\n",
       "      <th>Cert</th>\n",
       "      <th>Aquiring Institution</th>\n",
       "      <th>Closing Date</th>\n",
       "      <th>Fund  Sort ascending</th>\n",
       "    </tr>\n",
       "  </thead>\n",
       "  <tbody>\n",
       "    <tr>\n",
       "      <th>561</th>\n",
       "      <td>Net First National Bank</td>\n",
       "      <td>Boca Raton</td>\n",
       "      <td>Florida</td>\n",
       "      <td>26652</td>\n",
       "      <td>Bank Leumi USA</td>\n",
       "      <td>March 1, 2002</td>\n",
       "      <td>4654</td>\n",
       "    </tr>\n",
       "    <tr>\n",
       "      <th>562</th>\n",
       "      <td>NextBank, NA</td>\n",
       "      <td>Phoenix</td>\n",
       "      <td>Arizona</td>\n",
       "      <td>22314</td>\n",
       "      <td>No Acquirer</td>\n",
       "      <td>February 7, 2002</td>\n",
       "      <td>4653</td>\n",
       "    </tr>\n",
       "    <tr>\n",
       "      <th>563</th>\n",
       "      <td>Oakwood Deposit Bank Co.</td>\n",
       "      <td>Oakwood</td>\n",
       "      <td>Ohio</td>\n",
       "      <td>8966</td>\n",
       "      <td>The State Bank &amp; Trust Company</td>\n",
       "      <td>February 1, 2002</td>\n",
       "      <td>4652</td>\n",
       "    </tr>\n",
       "    <tr>\n",
       "      <th>564</th>\n",
       "      <td>Bank of Sierra Blanca</td>\n",
       "      <td>Sierra Blanca</td>\n",
       "      <td>Texas</td>\n",
       "      <td>22002</td>\n",
       "      <td>The Security State Bank of Pecos</td>\n",
       "      <td>January 18, 2002</td>\n",
       "      <td>4651</td>\n",
       "    </tr>\n",
       "    <tr>\n",
       "      <th>565</th>\n",
       "      <td>Hamilton Bank, N.A.</td>\n",
       "      <td>Miami</td>\n",
       "      <td>Florida</td>\n",
       "      <td>24382</td>\n",
       "      <td>Israel Discount Bank of New York</td>\n",
       "      <td>January 11, 2002</td>\n",
       "      <td>4650</td>\n",
       "    </tr>\n",
       "    <tr>\n",
       "      <th>566</th>\n",
       "      <td>Sinclair National Bank</td>\n",
       "      <td>Gravette</td>\n",
       "      <td>Arkansas</td>\n",
       "      <td>34248</td>\n",
       "      <td>Delta Trust &amp; Bank</td>\n",
       "      <td>September 7, 2001</td>\n",
       "      <td>4649</td>\n",
       "    </tr>\n",
       "    <tr>\n",
       "      <th>567</th>\n",
       "      <td>Malta National Bank</td>\n",
       "      <td>Malta</td>\n",
       "      <td>Ohio</td>\n",
       "      <td>6629</td>\n",
       "      <td>North Valley Bank</td>\n",
       "      <td>May 3, 2001</td>\n",
       "      <td>4648</td>\n",
       "    </tr>\n",
       "    <tr>\n",
       "      <th>568</th>\n",
       "      <td>First Alliance Bank &amp; Trust Co.</td>\n",
       "      <td>Manchester</td>\n",
       "      <td>New Hampshire</td>\n",
       "      <td>34264</td>\n",
       "      <td>Southern New Hampshire Bank &amp; Trust</td>\n",
       "      <td>February 2, 2001</td>\n",
       "      <td>4647</td>\n",
       "    </tr>\n",
       "    <tr>\n",
       "      <th>569</th>\n",
       "      <td>The National State Bank of Metropolis</td>\n",
       "      <td>Metropolis</td>\n",
       "      <td>Illinois</td>\n",
       "      <td>3815</td>\n",
       "      <td>Banterra Bank of Marion</td>\n",
       "      <td>December 14, 2000</td>\n",
       "      <td>4646</td>\n",
       "    </tr>\n",
       "    <tr>\n",
       "      <th>570</th>\n",
       "      <td>Bank of Honolulu</td>\n",
       "      <td>Honolulu</td>\n",
       "      <td>Hawaii</td>\n",
       "      <td>21029</td>\n",
       "      <td>Bank of the Orient</td>\n",
       "      <td>October 13, 2000</td>\n",
       "      <td>4645</td>\n",
       "    </tr>\n",
       "  </tbody>\n",
       "</table>\n",
       "</div>"
      ],
      "text/plain": [
       "                                 Bank Name           City          State  \\\n",
       "561                Net First National Bank     Boca Raton        Florida   \n",
       "562                           NextBank, NA        Phoenix        Arizona   \n",
       "563               Oakwood Deposit Bank Co.        Oakwood           Ohio   \n",
       "564                  Bank of Sierra Blanca  Sierra Blanca          Texas   \n",
       "565                    Hamilton Bank, N.A.          Miami        Florida   \n",
       "566                 Sinclair National Bank       Gravette       Arkansas   \n",
       "567                    Malta National Bank          Malta           Ohio   \n",
       "568        First Alliance Bank & Trust Co.     Manchester  New Hampshire   \n",
       "569  The National State Bank of Metropolis     Metropolis       Illinois   \n",
       "570                       Bank of Honolulu       Honolulu         Hawaii   \n",
       "\n",
       "      Cert                 Aquiring Institution       Closing Date  \\\n",
       "561  26652                       Bank Leumi USA      March 1, 2002   \n",
       "562  22314                          No Acquirer   February 7, 2002   \n",
       "563   8966       The State Bank & Trust Company   February 1, 2002   \n",
       "564  22002     The Security State Bank of Pecos   January 18, 2002   \n",
       "565  24382     Israel Discount Bank of New York   January 11, 2002   \n",
       "566  34248                   Delta Trust & Bank  September 7, 2001   \n",
       "567   6629                    North Valley Bank        May 3, 2001   \n",
       "568  34264  Southern New Hampshire Bank & Trust   February 2, 2001   \n",
       "569   3815              Banterra Bank of Marion  December 14, 2000   \n",
       "570  21029                   Bank of the Orient   October 13, 2000   \n",
       "\n",
       "     Fund  Sort ascending  \n",
       "561                  4654  \n",
       "562                  4653  \n",
       "563                  4652  \n",
       "564                  4651  \n",
       "565                  4650  \n",
       "566                  4649  \n",
       "567                  4648  \n",
       "568                  4647  \n",
       "569                  4646  \n",
       "570                  4645  "
      ]
     },
     "execution_count": 79,
     "metadata": {},
     "output_type": "execute_result"
    }
   ],
   "source": [
    "df.tail(10)"
   ]
  },
  {
   "cell_type": "markdown",
   "id": "891d705b-ac10-4e0b-ab01-b204a5a534d2",
   "metadata": {},
   "source": [
    "Quais instituições mais adquiriram os bancos "
   ]
  },
  {
   "cell_type": "code",
   "execution_count": 95,
   "id": "adbd89ce-624a-4dd7-93cb-f9cbf6ae2cd5",
   "metadata": {},
   "outputs": [
    {
     "data": {
      "text/plain": [
       "Aquiring Institution\n",
       "No Acquirer                            31\n",
       "State Bank and Trust Company           12\n",
       "First-Citizens Bank & Trust Company    11\n",
       "Ameris Bank                            10\n",
       "U.S. Bank N.A.                          9\n",
       "Community & Southern Bank               8\n",
       "Stearns Bank, N.A.                      7\n",
       "Bank of the Ozarks                      7\n",
       "Centennial Bank                         6\n",
       "MB Financial Bank, N.A.                 6\n",
       "Name: count, dtype: int64"
      ]
     },
     "execution_count": 95,
     "metadata": {},
     "output_type": "execute_result"
    }
   ],
   "source": [
    "df['Aquiring Institution'].value_counts().head(10)"
   ]
  }
 ],
 "metadata": {
  "kernelspec": {
   "display_name": "Python [conda env:base] *",
   "language": "python",
   "name": "conda-base-py"
  },
  "language_info": {
   "codemirror_mode": {
    "name": "ipython",
    "version": 3
   },
   "file_extension": ".py",
   "mimetype": "text/x-python",
   "name": "python",
   "nbconvert_exporter": "python",
   "pygments_lexer": "ipython3",
   "version": "3.12.7"
  }
 },
 "nbformat": 4,
 "nbformat_minor": 5
}
